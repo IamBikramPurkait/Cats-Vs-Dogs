{
 "cells": [
  {
   "cell_type": "code",
   "execution_count": 2,
   "metadata": {},
   "outputs": [
    {
     "name": "stdout",
     "output_type": "stream",
     "text": [
      "Train on 17462 samples, validate on 7484 samples\n",
      "Epoch 1/10\n",
      "17462/17462 [==============================] - 25s 1ms/sample - loss: 0.6572 - acc: 0.5944 - val_loss: 0.5993 - val_acc: 0.6827\n",
      "Epoch 2/10\n",
      "17462/17462 [==============================] - 25s 1ms/sample - loss: 0.5676 - acc: 0.7027 - val_loss: 0.5132 - val_acc: 0.7488\n",
      "Epoch 3/10\n",
      "17462/17462 [==============================] - 25s 1ms/sample - loss: 0.5024 - acc: 0.7542 - val_loss: 0.4963 - val_acc: 0.7557\n",
      "Epoch 4/10\n",
      "17462/17462 [==============================] - 26s 1ms/sample - loss: 0.4698 - acc: 0.7776 - val_loss: 0.4687 - val_acc: 0.7755\n",
      "Epoch 5/10\n",
      "17462/17462 [==============================] - 25s 1ms/sample - loss: 0.4350 - acc: 0.7986 - val_loss: 0.4779 - val_acc: 0.7794\n",
      "Epoch 6/10\n",
      "17462/17462 [==============================] - 25s 1ms/sample - loss: 0.4070 - acc: 0.8153 - val_loss: 0.4270 - val_acc: 0.8041\n",
      "Epoch 7/10\n",
      "17462/17462 [==============================] - 25s 1ms/sample - loss: 0.3795 - acc: 0.8292 - val_loss: 0.4365 - val_acc: 0.8079\n",
      "Epoch 8/10\n",
      "17462/17462 [==============================] - 26s 1ms/sample - loss: 0.3556 - acc: 0.8408 - val_loss: 0.4636 - val_acc: 0.7921\n",
      "Epoch 9/10\n",
      "17462/17462 [==============================] - 25s 1ms/sample - loss: 0.3266 - acc: 0.8567 - val_loss: 0.4336 - val_acc: 0.8119\n",
      "Epoch 10/10\n",
      "17462/17462 [==============================] - 25s 1ms/sample - loss: 0.3067 - acc: 0.8653 - val_loss: 0.4307 - val_acc: 0.8067\n"
     ]
    }
   ],
   "source": [
    "from tensorflow.keras.models import Sequential\n",
    "from tensorflow.keras.layers import Dense, Dropout, Activation, Flatten\n",
    "from tensorflow.keras.layers import Conv2D, MaxPooling2D\n",
    "# more info on callbakcs: https://keras.io/callbacks/ model saver is cool too.\n",
    "from tensorflow.keras.callbacks import TensorBoard\n",
    "import pickle\n",
    "import time\n",
    "\n",
    "pickle_in = open(\"X.pickle\",\"rb\")\n",
    "X = pickle.load(pickle_in)\n",
    "\n",
    "pickle_in = open(\"y.pickle\",\"rb\")\n",
    "y = pickle.load(pickle_in)\n",
    "\n",
    "X = X/255.0\n",
    "\n",
    "dense_layers = [0]\n",
    "layer_sizes = [64]\n",
    "conv_layers = [3]\n",
    "\n",
    "for dense_layer in dense_layers:\n",
    "    for layer_size in layer_sizes:\n",
    "        for conv_layer in conv_layers:\n",
    "            NAME = \"{}-conv-{}-nodes-{}-dense-{}\".format(conv_layer, layer_size, dense_layer, int(time.time()))\n",
    "            \n",
    "\n",
    "            model = Sequential()\n",
    "\n",
    "            model.add(Conv2D(layer_size, (3, 3), input_shape=X.shape[1:]))\n",
    "            model.add(Activation('relu'))\n",
    "            model.add(MaxPooling2D(pool_size=(2, 2)))\n",
    "\n",
    "            for l in range(conv_layer-1):\n",
    "                model.add(Conv2D(layer_size, (3, 3)))\n",
    "                model.add(Activation('relu'))\n",
    "                model.add(MaxPooling2D(pool_size=(2, 2)))\n",
    "\n",
    "            model.add(Flatten())\n",
    "\n",
    "            for _ in range(dense_layer):\n",
    "                model.add(Dense(layer_size))\n",
    "                model.add(Activation('relu'))\n",
    "\n",
    "            model.add(Dense(1))\n",
    "            model.add(Activation('sigmoid'))\n",
    "\n",
    "            tensorboard = TensorBoard(log_dir=\"logs\\{}\".format(NAME))\n",
    "\n",
    "            model.compile(loss='binary_crossentropy',\n",
    "                          optimizer='adam',\n",
    "                          metrics=['accuracy'],\n",
    "                          )\n",
    "\n",
    "            model.fit(X, y,\n",
    "                      batch_size=32,\n",
    "                      epochs=10,\n",
    "                      validation_split=0.3,\n",
    "                      callbacks=[tensorboard])"
   ]
  },
  {
   "cell_type": "code",
   "execution_count": null,
   "metadata": {},
   "outputs": [],
   "source": []
  }
 ],
 "metadata": {
  "interpreter": {
   "hash": "5313c116333f9a1730715ecf502533e05148ca300973e0f72d6430d4163cffea"
  },
  "kernelspec": {
   "display_name": "Python 3 (ipykernel)",
   "language": "python",
   "name": "python3"
  },
  "language_info": {
   "codemirror_mode": {
    "name": "ipython",
    "version": 3
   },
   "file_extension": ".py",
   "mimetype": "text/x-python",
   "name": "python",
   "nbconvert_exporter": "python",
   "pygments_lexer": "ipython3",
   "version": "3.7.11"
  }
 },
 "nbformat": 4,
 "nbformat_minor": 2
}

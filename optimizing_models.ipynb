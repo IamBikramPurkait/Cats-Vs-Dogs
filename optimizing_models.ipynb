{
 "cells": [
  {
   "cell_type": "code",
   "execution_count": 1,
   "metadata": {},
   "outputs": [
    {
     "name": "stdout",
     "output_type": "stream",
     "text": [
      "WARNING:tensorflow:From C:\\Users\\bkrmp\\miniconda3\\envs\\directml\\lib\\site-packages\\tensorflow_core\\python\\ops\\resource_variable_ops.py:1630: calling BaseResourceVariable.__init__ (from tensorflow.python.ops.resource_variable_ops) with constraint is deprecated and will be removed in a future version.\n",
      "Instructions for updating:\n",
      "If using Keras pass *_constraint arguments to layers.\n",
      "WARNING:tensorflow:From C:\\Users\\bkrmp\\miniconda3\\envs\\directml\\lib\\site-packages\\tensorflow_core\\python\\ops\\nn_impl.py:183: where (from tensorflow.python.ops.array_ops) is deprecated and will be removed in a future version.\n",
      "Instructions for updating:\n",
      "Use tf.where in 2.0, which has the same broadcast rule as np.where\n",
      "Train on 17462 samples, validate on 7484 samples\n",
      "Epoch 1/10\n",
      "17462/17462 [==============================] - 108s 6ms/sample - loss: 0.6532 - acc: 0.6051 - val_loss: 0.5969 - val_acc: 0.6865\n",
      "Epoch 2/10\n",
      "17462/17462 [==============================] - 95s 5ms/sample - loss: 0.5659 - acc: 0.7091 - val_loss: 0.5344 - val_acc: 0.7373\n",
      "Epoch 3/10\n",
      "17462/17462 [==============================] - 83s 5ms/sample - loss: 0.5125 - acc: 0.7480 - val_loss: 0.4952 - val_acc: 0.7612\n",
      "Epoch 4/10\n",
      "17462/17462 [==============================] - 58s 3ms/sample - loss: 0.4761 - acc: 0.7698 - val_loss: 0.4693 - val_acc: 0.7799\n",
      "Epoch 5/10\n",
      "17462/17462 [==============================] - 46s 3ms/sample - loss: 0.4380 - acc: 0.7960 - val_loss: 0.4647 - val_acc: 0.7878\n",
      "Epoch 6/10\n",
      "17462/17462 [==============================] - 36s 2ms/sample - loss: 0.4135 - acc: 0.8103 - val_loss: 0.4857 - val_acc: 0.7678\n",
      "Epoch 7/10\n",
      "17462/17462 [==============================] - 37s 2ms/sample - loss: 0.3890 - acc: 0.8268 - val_loss: 0.4272 - val_acc: 0.8077\n",
      "Epoch 8/10\n",
      "17462/17462 [==============================] - 37s 2ms/sample - loss: 0.3659 - acc: 0.8375 - val_loss: 0.4402 - val_acc: 0.8048\n",
      "Epoch 9/10\n",
      "17462/17462 [==============================] - 36s 2ms/sample - loss: 0.3374 - acc: 0.8507 - val_loss: 0.4203 - val_acc: 0.8093\n",
      "Epoch 10/10\n",
      "17462/17462 [==============================] - 45s 3ms/sample - loss: 0.3189 - acc: 0.8595 - val_loss: 0.4376 - val_acc: 0.8056\n"
     ]
    }
   ],
   "source": [
    "from tensorflow.keras.models import Sequential\n",
    "from tensorflow.keras.layers import Dense, Dropout, Activation, Flatten\n",
    "from tensorflow.keras.layers import Conv2D, MaxPooling2D\n",
    "# more info on callbakcs: https://keras.io/callbacks/ model saver is cool too.\n",
    "from tensorflow.keras.callbacks import TensorBoard\n",
    "import pickle\n",
    "import time\n",
    "\n",
    "pickle_in = open(\"X.pickle\",\"rb\")\n",
    "X = pickle.load(pickle_in)\n",
    "\n",
    "pickle_in = open(\"y.pickle\",\"rb\")\n",
    "y = pickle.load(pickle_in)\n",
    "\n",
    "X = X/255.0\n",
    "\n",
    "dense_layers = [0]\n",
    "layer_sizes = [64]\n",
    "conv_layers = [3]\n",
    "\n",
    "for dense_layer in dense_layers:\n",
    "    for layer_size in layer_sizes:\n",
    "        for conv_layer in conv_layers:\n",
    "            NAME = \"{}-conv-{}-nodes-{}-dense-{}\".format(conv_layer, layer_size, dense_layer, int(time.time()))\n",
    "            \n",
    "\n",
    "            model = Sequential()\n",
    "\n",
    "            model.add(Conv2D(layer_size, (3, 3), input_shape=X.shape[1:]))\n",
    "            model.add(Activation('relu'))\n",
    "            model.add(MaxPooling2D(pool_size=(2, 2)))\n",
    "\n",
    "            for l in range(conv_layer-1):\n",
    "                model.add(Conv2D(layer_size, (3, 3)))\n",
    "                model.add(Activation('relu'))\n",
    "                model.add(MaxPooling2D(pool_size=(2, 2)))\n",
    "\n",
    "            model.add(Flatten())\n",
    "\n",
    "            for _ in range(dense_layer):\n",
    "                model.add(Dense(layer_size))\n",
    "                model.add(Activation('relu'))\n",
    "\n",
    "            model.add(Dense(1))\n",
    "            model.add(Activation('sigmoid'))\n",
    "\n",
    "            tensorboard = TensorBoard(log_dir=\"logs\\{}\".format(NAME))\n",
    "\n",
    "            model.compile(loss='binary_crossentropy',\n",
    "                          optimizer='adam',\n",
    "                          metrics=['accuracy'],\n",
    "                          )\n",
    "\n",
    "            model.fit(X, y,\n",
    "                      batch_size=32,\n",
    "                      epochs=10,\n",
    "                      validation_split=0.3,\n",
    "                      callbacks=[tensorboard])"
   ]
  }
 ],
 "metadata": {
  "interpreter": {
   "hash": "5313c116333f9a1730715ecf502533e05148ca300973e0f72d6430d4163cffea"
  },
  "kernelspec": {
   "display_name": "Python 3 (ipykernel)",
   "language": "python",
   "name": "python3"
  },
  "language_info": {
   "codemirror_mode": {
    "name": "ipython",
    "version": 3
   },
   "file_extension": ".py",
   "mimetype": "text/x-python",
   "name": "python",
   "nbconvert_exporter": "python",
   "pygments_lexer": "ipython3",
   "version": "3.7.11"
  }
 },
 "nbformat": 4,
 "nbformat_minor": 2
}

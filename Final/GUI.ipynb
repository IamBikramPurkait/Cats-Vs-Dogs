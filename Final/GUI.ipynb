{
 "cells": [
  {
   "cell_type": "markdown",
   "metadata": {},
   "source": [
    "# Prediction"
   ]
  },
  {
   "cell_type": "code",
   "execution_count": null,
   "metadata": {
    "scrolled": false
   },
   "outputs": [],
   "source": [
    "import tensorflow as tf\n",
    "import cv2\n",
    "from tkinter import *\n",
    "from tkinter.ttk import *\n",
    "from tkinter import filedialog\n",
    "from PIL import ImageTk, Image\n",
    "from tkinter import filedialog\n",
    "\n",
    "filename = ''\n",
    "\n",
    "\n",
    "def upload_action():\n",
    "    global img\n",
    "    filename = filedialog.askopenfilename()\n",
    "    img = Image.open(filename)\n",
    "    img = img.resize((300, 300), Image.ANTIALIAS)\n",
    "    img = ImageTk.PhotoImage(img)\n",
    "    image_lbl.config(image=img)\n",
    "\n",
    "\n",
    "\n",
    "    def prepare(image):\n",
    "        IMG_SIZE = 70\n",
    "        img_array = cv2.imread(image, cv2.IMREAD_GRAYSCALE)\n",
    "        new_array = cv2.resize(img_array, (IMG_SIZE, IMG_SIZE))\n",
    "        return new_array.reshape(-1, IMG_SIZE, IMG_SIZE, 1)\n",
    "\n",
    "    model = tf.keras.models.load_model(\"64x3-CNN.model\")\n",
    "\n",
    "    prediction = model.predict([prepare(filename)])\n",
    "    prediction_var.set(CATEGORIES[int(prediction[0][0])])\n",
    "    \n",
    "\n",
    "\n",
    "window = Tk()\n",
    "\n",
    "\n",
    "CATEGORIES = [\"Dog\", \"Cat\"]\n",
    "\n",
    "\n",
    "window.geometry('600x500')\n",
    "window.title('Dog vs Cat')\n",
    "window.resizable(False, False)\n",
    "\n",
    "Font_tuple = (\"Comic Sans MS\", 20, \"bold\")\n",
    "\n",
    "title_frm = Frame(window)\n",
    "title_frm.pack()\n",
    "\n",
    "\n",
    "main_title = Label(title_frm, text='Predict Dog vs Cat by Deep Learning', font=Font_tuple,\n",
    "                   background=\"yellow\", foreground=\"blue\")\n",
    "main_title.pack()\n",
    "\n",
    "body_frm = Frame()\n",
    "body_frm.pack(pady=20)\n",
    "\n",
    "\n",
    "upload_btn = ttk.Button(body_frm, text='UPLOAD', command=lambda: upload_action())\n",
    "upload_btn.pack()\n",
    "\n",
    "\n",
    "global image_button\n",
    "image_lbl = Label(body_frm)\n",
    "image_lbl.pack(pady=20)\n",
    "\n",
    "\n",
    "# prediction.set('Image Uploaded')\n",
    "\n",
    "prediction_frm = Frame()\n",
    "prediction_frm.pack(side=BOTTOM, fill=BOTH)\n",
    "prediction_var = StringVar()\n",
    "prediction_text = Label(\n",
    "    prediction_frm, textvariable=prediction_var, font=Font_tuple)\n",
    "prediction_text.pack()\n",
    "\n",
    "prediction_var.set('Select a Image of Dog or Cat only')\n",
    "\n",
    "\n",
    "window.mainloop()\n"
   ]
  },
  {
   "cell_type": "code",
   "execution_count": null,
   "metadata": {},
   "outputs": [],
   "source": []
  }
 ],
 "metadata": {
  "interpreter": {
   "hash": "62b8b2e066050cb3347098e9c13ffc1d3efcc40bcc550b8eca561104e698c290"
  },
  "kernelspec": {
   "display_name": "Python 3 (ipykernel)",
   "language": "python",
   "name": "python3"
  },
  "language_info": {
   "codemirror_mode": {
    "name": "ipython",
    "version": 3
   },
   "file_extension": ".py",
   "mimetype": "text/x-python",
   "name": "python",
   "nbconvert_exporter": "python",
   "pygments_lexer": "ipython3",
   "version": "3.7.11"
  }
 },
 "nbformat": 4,
 "nbformat_minor": 2
}
